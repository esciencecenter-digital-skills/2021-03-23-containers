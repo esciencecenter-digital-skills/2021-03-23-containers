{
 "cells": [
  {
   "cell_type": "code",
   "execution_count": null,
   "metadata": {},
   "outputs": [],
   "source": [
    "#import necassary libraries\n",
    "from osgeo import gdal\n",
    "import matplotlib.pyplot as plt"
   ]
  },
  {
   "cell_type": "code",
   "execution_count": null,
   "metadata": {},
   "outputs": [],
   "source": [
    "# load data into python\n",
    "sea_ice_1979 = gdal.Open('N_197901_concentration_v3.0.tif', gdal.GA_ReadOnly) \n",
    "sea_ice_2021 = gdal.Open('N_202101_concentration_v3.0.tif', gdal.GA_ReadOnly) "
   ]
  },
  {
   "cell_type": "code",
   "execution_count": null,
   "metadata": {},
   "outputs": [],
   "source": [
    "# plot\n",
    "# Note GetRasterBand() takes band no. starting from 1 not 0\n",
    "band_1979 = sea_ice_1979.GetRasterBand(1)\n",
    "arr_1979 = band.ReadAsArray()\n",
    "plt.imshow(arr_1979, vmin=0, vmax=10)"
   ]
  },
  {
   "cell_type": "code",
   "execution_count": null,
   "metadata": {},
   "outputs": [],
   "source": [
    "band_2021 = sea_ice_2021.GetRasterBand(1)\n",
    "arr_2021 = band_2021.ReadAsArray()\n",
    "plt.imshow(arr_2021, vmin=0, vmax=3000)"
   ]
  },
  {
   "cell_type": "code",
   "execution_count": null,
   "metadata": {},
   "outputs": [],
   "source": [
    "arr_2021"
   ]
  },
  {
   "cell_type": "code",
   "execution_count": null,
   "metadata": {},
   "outputs": [],
   "source": [
    "arr_1979"
   ]
  },
  {
   "cell_type": "code",
   "execution_count": null,
   "metadata": {},
   "outputs": [],
   "source": []
  }
 ],
 "metadata": {
  "kernelspec": {
   "display_name": "Python 3",
   "language": "python",
   "name": "python3"
  },
  "language_info": {
   "codemirror_mode": {
    "name": "ipython",
    "version": 3
   },
   "file_extension": ".py",
   "mimetype": "text/x-python",
   "name": "python",
   "nbconvert_exporter": "python",
   "pygments_lexer": "ipython3",
   "version": "3.8.8"
  }
 },
 "nbformat": 4,
 "nbformat_minor": 4
}
